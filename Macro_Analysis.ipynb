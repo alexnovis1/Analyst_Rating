{
 "cells": [
  {
   "cell_type": "code",
   "execution_count": 3,
   "id": "548bb609-3e47-4339-b5b4-79e01d1cec67",
   "metadata": {},
   "outputs": [],
   "source": [
    "# Import the required libraries and dependencies\n",
    "import pandas as pd\n",
    "from pathlib import Path"
   ]
  },
  {
   "cell_type": "code",
   "execution_count": 8,
   "id": "856c775e-74d5-466b-9c8a-97a15da2771d",
   "metadata": {},
   "outputs": [],
   "source": [
    "treasury_df = pd.read_csv(\n",
    "    Path(\"USTREASURY-YIELD.csv\"),\n",
    "    index_col = \"Date\"\n",
    ")"
   ]
  },
  {
   "cell_type": "code",
   "execution_count": null,
   "id": "60c51dda-171f-4c5e-be90-63241cce5dae",
   "metadata": {},
   "outputs": [],
   "source": [
    "treasury_df = pd.read_csv(\n",
    "    Path(\"USTREASURY-YIELD.csv\"),\n",
    "    index_col = \"Date\"\n",
    ")"
   ]
  },
  {
   "cell_type": "code",
   "execution_count": 9,
   "id": "86fd9d5c-6795-4188-ae3c-54a1f76dcc45",
   "metadata": {},
   "outputs": [
    {
     "data": {
      "text/html": [
       "<div>\n",
       "<style scoped>\n",
       "    .dataframe tbody tr th:only-of-type {\n",
       "        vertical-align: middle;\n",
       "    }\n",
       "\n",
       "    .dataframe tbody tr th {\n",
       "        vertical-align: top;\n",
       "    }\n",
       "\n",
       "    .dataframe thead th {\n",
       "        text-align: right;\n",
       "    }\n",
       "</style>\n",
       "<table border=\"1\" class=\"dataframe\">\n",
       "  <thead>\n",
       "    <tr style=\"text-align: right;\">\n",
       "      <th></th>\n",
       "      <th>1 MO</th>\n",
       "      <th>2 MO</th>\n",
       "      <th>3 MO</th>\n",
       "      <th>6 MO</th>\n",
       "      <th>1 YR</th>\n",
       "      <th>2 YR</th>\n",
       "      <th>3 YR</th>\n",
       "      <th>5 YR</th>\n",
       "      <th>7 YR</th>\n",
       "      <th>10 YR</th>\n",
       "      <th>20 YR</th>\n",
       "      <th>30 YR</th>\n",
       "    </tr>\n",
       "    <tr>\n",
       "      <th>Date</th>\n",
       "      <th></th>\n",
       "      <th></th>\n",
       "      <th></th>\n",
       "      <th></th>\n",
       "      <th></th>\n",
       "      <th></th>\n",
       "      <th></th>\n",
       "      <th></th>\n",
       "      <th></th>\n",
       "      <th></th>\n",
       "      <th></th>\n",
       "      <th></th>\n",
       "    </tr>\n",
       "  </thead>\n",
       "  <tbody>\n",
       "    <tr>\n",
       "      <th>2023-06-30</th>\n",
       "      <td>5.24</td>\n",
       "      <td>5.39</td>\n",
       "      <td>5.43</td>\n",
       "      <td>5.47</td>\n",
       "      <td>5.40</td>\n",
       "      <td>4.87</td>\n",
       "      <td>4.49</td>\n",
       "      <td>4.13</td>\n",
       "      <td>3.97</td>\n",
       "      <td>3.81</td>\n",
       "      <td>4.06</td>\n",
       "      <td>3.85</td>\n",
       "    </tr>\n",
       "    <tr>\n",
       "      <th>2023-06-29</th>\n",
       "      <td>5.25</td>\n",
       "      <td>5.40</td>\n",
       "      <td>5.46</td>\n",
       "      <td>5.50</td>\n",
       "      <td>5.41</td>\n",
       "      <td>4.87</td>\n",
       "      <td>4.49</td>\n",
       "      <td>4.14</td>\n",
       "      <td>3.99</td>\n",
       "      <td>3.85</td>\n",
       "      <td>4.11</td>\n",
       "      <td>3.92</td>\n",
       "    </tr>\n",
       "    <tr>\n",
       "      <th>2023-06-28</th>\n",
       "      <td>5.17</td>\n",
       "      <td>5.32</td>\n",
       "      <td>5.44</td>\n",
       "      <td>5.47</td>\n",
       "      <td>5.32</td>\n",
       "      <td>4.71</td>\n",
       "      <td>4.32</td>\n",
       "      <td>3.97</td>\n",
       "      <td>3.83</td>\n",
       "      <td>3.71</td>\n",
       "      <td>4.00</td>\n",
       "      <td>3.81</td>\n",
       "    </tr>\n",
       "    <tr>\n",
       "      <th>2023-06-27</th>\n",
       "      <td>5.17</td>\n",
       "      <td>5.31</td>\n",
       "      <td>5.44</td>\n",
       "      <td>5.46</td>\n",
       "      <td>5.33</td>\n",
       "      <td>4.74</td>\n",
       "      <td>4.38</td>\n",
       "      <td>4.02</td>\n",
       "      <td>3.90</td>\n",
       "      <td>3.77</td>\n",
       "      <td>4.03</td>\n",
       "      <td>3.84</td>\n",
       "    </tr>\n",
       "    <tr>\n",
       "      <th>2023-06-26</th>\n",
       "      <td>5.17</td>\n",
       "      <td>5.31</td>\n",
       "      <td>5.50</td>\n",
       "      <td>5.45</td>\n",
       "      <td>5.27</td>\n",
       "      <td>4.65</td>\n",
       "      <td>4.30</td>\n",
       "      <td>3.96</td>\n",
       "      <td>3.85</td>\n",
       "      <td>3.72</td>\n",
       "      <td>4.01</td>\n",
       "      <td>3.83</td>\n",
       "    </tr>\n",
       "  </tbody>\n",
       "</table>\n",
       "</div>"
      ],
      "text/plain": [
       "            1 MO  2 MO  3 MO  6 MO  1 YR  2 YR  3 YR  5 YR  7 YR  10 YR  \\\n",
       "Date                                                                      \n",
       "2023-06-30  5.24  5.39  5.43  5.47  5.40  4.87  4.49  4.13  3.97   3.81   \n",
       "2023-06-29  5.25  5.40  5.46  5.50  5.41  4.87  4.49  4.14  3.99   3.85   \n",
       "2023-06-28  5.17  5.32  5.44  5.47  5.32  4.71  4.32  3.97  3.83   3.71   \n",
       "2023-06-27  5.17  5.31  5.44  5.46  5.33  4.74  4.38  4.02  3.90   3.77   \n",
       "2023-06-26  5.17  5.31  5.50  5.45  5.27  4.65  4.30  3.96  3.85   3.72   \n",
       "\n",
       "            20 YR  30 YR  \n",
       "Date                      \n",
       "2023-06-30   4.06   3.85  \n",
       "2023-06-29   4.11   3.92  \n",
       "2023-06-28   4.00   3.81  \n",
       "2023-06-27   4.03   3.84  \n",
       "2023-06-26   4.01   3.83  "
      ]
     },
     "execution_count": 9,
     "metadata": {},
     "output_type": "execute_result"
    }
   ],
   "source": [
    "treasury_df.head()"
   ]
  },
  {
   "cell_type": "code",
   "execution_count": 13,
   "id": "6ed3d0ff-1b5f-4b5f-a745-ed340c231c24",
   "metadata": {},
   "outputs": [],
   "source": [
    "ten_yr_treasury = treasury_df['10 YR']"
   ]
  },
  {
   "cell_type": "code",
   "execution_count": 15,
   "id": "50ef3e63-c071-4eb7-a112-19a53dcfde5e",
   "metadata": {},
   "outputs": [
    {
     "data": {
      "text/plain": [
       "Date\n",
       "2023-06-30    3.81\n",
       "2023-06-29    3.85\n",
       "2023-06-28    3.71\n",
       "2023-06-27    3.77\n",
       "2023-06-26    3.72\n",
       "Name: 10 YR, dtype: float64"
      ]
     },
     "metadata": {},
     "output_type": "display_data"
    },
    {
     "data": {
      "text/plain": [
       "Date\n",
       "1990-01-08    8.02\n",
       "1990-01-05    7.99\n",
       "1990-01-04    7.98\n",
       "1990-01-03    7.99\n",
       "1990-01-02    7.94\n",
       "Name: 10 YR, dtype: float64"
      ]
     },
     "metadata": {},
     "output_type": "display_data"
    }
   ],
   "source": [
    "display(ten_yr_treasury.head())\n",
    "display(ten_yr_treasury.tail())"
   ]
  }
 ],
 "metadata": {
  "kernelspec": {
   "display_name": "dev",
   "language": "python",
   "name": "dev"
  },
  "language_info": {
   "codemirror_mode": {
    "name": "ipython",
    "version": 3
   },
   "file_extension": ".py",
   "mimetype": "text/x-python",
   "name": "python",
   "nbconvert_exporter": "python",
   "pygments_lexer": "ipython3",
   "version": "3.7.13"
  }
 },
 "nbformat": 4,
 "nbformat_minor": 5
}
