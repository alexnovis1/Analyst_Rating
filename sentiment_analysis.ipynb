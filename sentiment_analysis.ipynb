{
 "cells": [
  {
   "cell_type": "code",
   "execution_count": 11,
   "id": "366563a0-2c34-4758-9fde-26fbea6688b0",
   "metadata": {},
   "outputs": [],
   "source": [
    "# Import dependencies from alpaca trade and transformers\n",
    "from alpaca_trade_api import REST, Stream\n",
    "from transformers import pipeline"
   ]
  },
  {
   "cell_type": "code",
   "execution_count": 5,
   "id": "e2accdf6-00ef-4fa9-81a5-05ba59ff56b1",
   "metadata": {},
   "outputs": [],
   "source": [
    "# API KEY and SECRET\n",
    "API_KEY = 'PK0X5WU3UKJVC9K262Y8'\n",
    "API_SECRET = '7sJMcVaBeyQAagfiKYroziegrNLj8ytLhOfcnfRu'"
   ]
  },
  {
   "cell_type": "code",
   "execution_count": 53,
   "id": "fcc71d45-939d-4751-8754-70dfab1d3b90",
   "metadata": {},
   "outputs": [],
   "source": [
    "# Call API KEY AND SECRET with REST\n",
    "rest_client = REST(API_KEY, API_SECRET)\n",
    "\n",
    "# Call get_news with desired ticker and date period\n",
    "news = rest_client.get_news(\"AAPL\", \"2021-01-01\", \"2021-12-31\")"
   ]
  },
  {
   "cell_type": "code",
   "execution_count": 61,
   "id": "3e191438-ab41-4adf-b7a3-f8e2323d3a65",
   "metadata": {},
   "outputs": [
    {
     "data": {
      "text/plain": [
       "[NewsV2({   'author': 'Benzinga Newsdesk',\n",
       "     'content': '',\n",
       "     'created_at': '2021-12-30T18:15:48Z',\n",
       "     'headline': \"'South Korea Asks App Stores to Abolish 'Play-To-Earn' Crypto \"\n",
       "                 \"Games' -Gizmodo Report\",\n",
       "     'id': 24834814,\n",
       "     'images': [],\n",
       "     'source': '',\n",
       "     'summary': '',\n",
       "     'symbols': ['AAPL', 'GOOG', 'GOOGL'],\n",
       "     'updated_at': '2021-12-30T18:15:48Z',\n",
       "     'url': 'https://www.benzinga.com/news/21/12/24834814/south-korea-asks-app-stores-to-abolish-play-to-earn-crypto-games-gizmodo-report'}),\n",
       " NewsV2({   'author': 'Shanthi Rexaline',\n",
       "     'content': '',\n",
       "     'created_at': '2021-12-30T18:07:57Z',\n",
       "     'headline': '2022 Tech Trends That Will Change Our World And The Potential '\n",
       "                 'Beneficiaries: Deloitte Report',\n",
       "     'id': 24707377,\n",
       "     'images': [   {   'size': 'large',\n",
       "                       'url': 'https://cdn.benzinga.com/files/imagecache/2048x1536xUP/images/story/2012/future_tech2.jpg'},\n",
       "                   {   'size': 'small',\n",
       "                       'url': 'https://cdn.benzinga.com/files/imagecache/1024x768xUP/images/story/2012/future_tech2.jpg'},\n",
       "                   {   'size': 'thumb',\n",
       "                       'url': 'https://cdn.benzinga.com/files/imagecache/250x187xUP/images/story/2012/future_tech2.jpg'}],\n",
       "     'source': '',\n",
       "     'summary': 'The year 2021 marked a period when global economies began '\n",
       "                'picking up the pieces following the COVID-19 pandemic that '\n",
       "                'left them crippled and ravaged. Notwithstanding the setbacks, '\n",
       "                'the tech sector extended its gains from 2020 and remains '\n",
       "                'poised to go from strength to strength.',\n",
       "     'symbols': [   'AAPL',\n",
       "                    'ACN',\n",
       "                    'AMD',\n",
       "                    'AMZN',\n",
       "                    'AVAV',\n",
       "                    'AZTA',\n",
       "                    'BLPFF',\n",
       "                    'BOX',\n",
       "                    'BTBT',\n",
       "                    'BTCM',\n",
       "                    'CGNX',\n",
       "                    'CHKP',\n",
       "                    'CRWD',\n",
       "                    'DBX',\n",
       "                    'FB',\n",
       "                    'FTNT',\n",
       "                    'GE',\n",
       "                    'GOOG',\n",
       "                    'GOOGL',\n",
       "                    'HON',\n",
       "                    'KTOS',\n",
       "                    'MSFT',\n",
       "                    'NVDA',\n",
       "                    'PYPL',\n",
       "                    'ROK',\n",
       "                    'SQ',\n",
       "                    'TER'],\n",
       "     'updated_at': '2021-12-30T18:08:46Z',\n",
       "     'url': 'https://www.benzinga.com/markets/penny-stocks/21/12/24707377/2022-tech-trends-that-will-change-our-world-and-the-potential-beneficiaries-deloitte-report'})]"
      ]
     },
     "execution_count": 61,
     "metadata": {},
     "output_type": "execute_result"
    }
   ],
   "source": [
    "# Review news \n",
    "news[:2]"
   ]
  },
  {
   "cell_type": "code",
   "execution_count": 62,
   "id": "0adbbcda-60f5-48a4-944c-eefa3c899240",
   "metadata": {},
   "outputs": [
    {
     "name": "stderr",
     "output_type": "stream",
     "text": [
      "No model was supplied, defaulted to distilbert-base-uncased-finetuned-sst-2-english and revision af0f99b (https://huggingface.co/distilbert-base-uncased-finetuned-sst-2-english).\n",
      "Using a pipeline without specifying a model name and revision in production is not recommended.\n",
      "All PyTorch model weights were used when initializing TFDistilBertForSequenceClassification.\n",
      "\n",
      "All the weights of TFDistilBertForSequenceClassification were initialized from the PyTorch model.\n",
      "If your task is similar to the task the model of the checkpoint was trained on, you can already use TFDistilBertForSequenceClassification for predictions without further training.\n"
     ]
    }
   ],
   "source": [
    "classifier = pipeline('sentiment-analysis')"
   ]
  },
  {
   "cell_type": "code",
   "execution_count": 81,
   "id": "a446f2a5-e978-49ff-ba2d-505b0f8d0888",
   "metadata": {},
   "outputs": [
    {
     "name": "stdout",
     "output_type": "stream",
     "text": [
      "'South Korea Asks App Stores to Abolish 'Play-To-Earn' Crypto Games' -Gizmodo Report\n",
      "[{'label': 'POSITIVE', 'score': 0.7481211423873901}]\n",
      "2022 Tech Trends That Will Change Our World And The Potential Beneficiaries: Deloitte Report\n",
      "[{'label': 'POSITIVE', 'score': 0.9943734407424927}]\n",
      "Top 10 WallStreetBets Mentions for December 30, 2021 Since 9:30 AM ET Open: TSLA, NIO, BABA, SOFI, GME, NVDA, AMD, PLTR, HOOD, AAPL\n",
      "[{'label': 'POSITIVE', 'score': 0.7481211423873901}]\n",
      "10 Information Technology Stocks With Whale Alerts In Today's Session\n",
      "[{'label': 'NEGATIVE', 'score': 0.9589881896972656}]\n",
      "Read Why Apple Is Leaning Towards China's Supply Chain Partners\n",
      "[{'label': 'POSITIVE', 'score': 0.7481211423873901}]\n",
      "'Apple shifted orders from Foxconn to Luxshare to assist $275B China deal' -AppleInsider Report\n",
      "[{'label': 'POSITIVE', 'score': 0.7481211423873901}]\n",
      "Top 10 WallStreetBets Mentions for December 30, 2021 Premarket: TSLA, GME, WISH, AAPL, AMC, NVDA, PLTR, BABA, RIOT, AMD\n",
      "[{'label': 'POSITIVE', 'score': 0.7481211423873901}]\n",
      "Apple Filed U.S. Patent Application #20210409073 'Communication Between Devices During Wireless Power Transfer'\n",
      "[{'label': 'POSITIVE', 'score': 0.7481211423873901}]\n",
      "Apple Filed U.S. Patent Application #20210408826 'Through-Display Wireless Charging'\n",
      "[{'label': 'POSITIVE', 'score': 0.7481211423873901}]\n",
      "ProShares Seeks To Launch Metaverse-Themed ETF — Apple, Meta And This Chipmaker Would Be Its Largest Holdings\n",
      "[{'label': 'NEGATIVE', 'score': 0.9665060043334961}]\n"
     ]
    }
   ],
   "source": [
    "result = []\n",
    "for story in news: \n",
    "    print(story.headline)\n",
    "    score = classifier(story.summary)\n",
    "    result.append(score)\n",
    "    print(classifier(story.summary))"
   ]
  },
  {
   "cell_type": "code",
   "execution_count": 82,
   "id": "a93bcff4-a5a8-40d7-8768-735a8f470568",
   "metadata": {},
   "outputs": [
    {
     "data": {
      "text/plain": [
       "[[{'label': 'POSITIVE', 'score': 0.7481211423873901}],\n",
       " [{'label': 'POSITIVE', 'score': 0.9943734407424927}],\n",
       " [{'label': 'POSITIVE', 'score': 0.7481211423873901}],\n",
       " [{'label': 'NEGATIVE', 'score': 0.9589881896972656}],\n",
       " [{'label': 'POSITIVE', 'score': 0.7481211423873901}],\n",
       " [{'label': 'POSITIVE', 'score': 0.7481211423873901}],\n",
       " [{'label': 'POSITIVE', 'score': 0.7481211423873901}],\n",
       " [{'label': 'POSITIVE', 'score': 0.7481211423873901}],\n",
       " [{'label': 'POSITIVE', 'score': 0.7481211423873901}],\n",
       " [{'label': 'NEGATIVE', 'score': 0.9665060043334961}]]"
      ]
     },
     "execution_count": 82,
     "metadata": {},
     "output_type": "execute_result"
    }
   ],
   "source": [
    "result"
   ]
  },
  {
   "cell_type": "code",
   "execution_count": null,
   "id": "2acd88a7-5966-469d-a57a-01a1ccfaf9dd",
   "metadata": {},
   "outputs": [],
   "source": []
  },
  {
   "cell_type": "code",
   "execution_count": null,
   "id": "3d0e49d6-af40-4951-a134-d843c8f71485",
   "metadata": {},
   "outputs": [],
   "source": []
  }
 ],
 "metadata": {
  "kernelspec": {
   "display_name": "dev",
   "language": "python",
   "name": "dev"
  },
  "language_info": {
   "codemirror_mode": {
    "name": "ipython",
    "version": 3
   },
   "file_extension": ".py",
   "mimetype": "text/x-python",
   "name": "python",
   "nbconvert_exporter": "python",
   "pygments_lexer": "ipython3",
   "version": "3.7.13"
  }
 },
 "nbformat": 4,
 "nbformat_minor": 5
}
